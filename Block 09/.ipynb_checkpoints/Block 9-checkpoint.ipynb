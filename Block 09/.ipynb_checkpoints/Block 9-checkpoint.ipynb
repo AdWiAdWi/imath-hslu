{
 "cells": [
  {
   "cell_type": "markdown",
   "metadata": {},
   "source": [
    "## Trapezoidal Rule"
   ]
  },
  {
   "cell_type": "code",
   "execution_count": 18,
   "metadata": {},
   "outputs": [],
   "source": [
    "function T = TrapezoidalRule(f,a,b,n)\n",
    "% TRAPEZOIDALRULE computes the integral of f by subdividing the\n",
    "% interval [a,b] into n intervals using the trapezoidal rule.\n",
    "    x = linspace(a,b,n+1);\n",
    "    T = feval(f,a) + feval(f,b);\n",
    "    for i=1:n-1\n",
    "        T = T + 2*feval(f,x(i+1));\n",
    "    end\n",
    "    T = (b-a)*T/(2*n);\n",
    "end\n"
   ]
  },
  {
   "cell_type": "markdown",
   "metadata": {},
   "source": [
    "## Simpson Rule"
   ]
  },
  {
   "cell_type": "code",
   "execution_count": 27,
   "metadata": {},
   "outputs": [],
   "source": [
    "function S = SimpsonsRule(f,a,b,n)\n",
    "% SIMPSONSRULE computes the integral of f by subdividing the\n",
    "% interval [a,b] into an even number n of intervals using\n",
    "% Simpson's rule.\n",
    "    x = linspace(a,b,n+1);\n",
    "    S = feval(f,a) + feval(f,b);\n",
    "    for i=2:2:n\n",
    "        S = S + 4*feval(f,x(i));\n",
    "    end\n",
    "    for i=3:2:n-1\n",
    "        S = S + 2*feval(f,x(i));\n",
    "    end\n",
    "    S = (b-a)*S/(3*n);\n",
    "end\n"
   ]
  },
  {
   "cell_type": "markdown",
   "metadata": {},
   "source": [
    "## Exercise 1 - Trapezoidal and Simpson rule"
   ]
  },
  {
   "cell_type": "code",
   "execution_count": 25,
   "metadata": {},
   "outputs": [
    {
     "name": "stdout",
     "output_type": "stream",
     "text": [
      "TrapezoidalRule for n=32 \t intervall = 1.628312899375075e+00\n",
      "TrapezoidalRule for n=64 \t intervall = 1.628757382371713e+00\n",
      "TrapezoidalRule for n=128 \t intervall = 1.628868489202797e+00\n",
      "TrapezoidalRule for n=256 \t intervall = 1.628896265039894e+00\n",
      "TrapezoidalRule for n=512 \t intervall = 1.628903208944738e+00\n",
      "TrapezoidalRule for n=1024 \t intervall = 1.628904944917545e+00\n",
      "TrapezoidalRule for n=30000 \t intervall = 1.628905522900666e+00\n",
      "using_quad =  1.628905523574849\n"
     ]
    }
   ],
   "source": [
    "format long\n",
    "f = @(x) [exp(-x*x)];\n",
    "a = [32,64,128,256,512,1024, 30000];\n",
    "for i = a\n",
    "    format long\n",
    "    printf('TrapezoidalRule for n=%i \\t intervall = %0.15e\\n',i, TrapezoidalRule(f,-1,2,i))\n",
    "endfor\n",
    "\n",
    "using_quad = quad(f, -1,2)"
   ]
  },
  {
   "cell_type": "code",
   "execution_count": 30,
   "metadata": {},
   "outputs": [
    {
     "name": "stdout",
     "output_type": "stream",
     "text": [
      "Simpsons-Rule  for n=32 \t intervall = 1.628905839171525e+00\n",
      "Simpsons-Rule  for n=64 \t intervall = 1.628905543370592e+00\n",
      "Simpsons-Rule  for n=128 \t intervall = 1.628905524813158e+00\n",
      "Simpsons-Rule  for n=238 \t intervall = 1.628905523678472e+00\n",
      "Simpsons-Rule  for n=256 \t intervall = 1.628905523652261e+00\n",
      "Simpsons-Rule  for n=512 \t intervall = 1.628905523579687e+00\n",
      "Simpsons-Rule  for n=1024 \t intervall = 1.628905523575152e+00\n",
      "using_quad =  1.628905523574849\n"
     ]
    }
   ],
   "source": [
    "format long\n",
    "f = @(x) [exp(-x*x)];\n",
    "a = [32,64,128,238,256,512,1024];\n",
    "for i = a\n",
    "    format long\n",
    "    printf('Simpsons-Rule  for n=%i \\t intervall = %0.15e\\n',i, SimpsonsRule(f,-1,2,i))\n",
    "endfor\n",
    "\n",
    "using_quad = quad(f,-1,2)"
   ]
  },
  {
   "cell_type": "markdown",
   "metadata": {},
   "source": [
    "## Exercise 2 - Numerical Differentiation"
   ]
  },
  {
   "cell_type": "code",
   "execution_count": 13,
   "metadata": {},
   "outputs": [],
   "source": [
    "function df=numdiff(x)\n",
    "    % plot relative errors of the approximation of\n",
    "    % the derivative of f(x) = exp(x) at an arbitrary x.\n",
    "    n = 16;\n",
    "    df = zeros(1,n);\n",
    "    error = zeros(1,n);\n",
    "    \n",
    "    for k = 1:n\n",
    "        h = 10^(-k);\n",
    "        df(1,k) = (exp(x+h)-exp(x))/h;\n",
    "    end\n",
    "    \n",
    "    error(:,:) = abs(exp(x)-df(:,:))/exp(x);\n",
    "    semilogy(-n:-1,error(1,n:-1:1),'-.k')\n",
    "    xlabel('log(h)');\n",
    "    ylabel('relative error');\n",
    "    title('Relative Errors in numerical differentiation');\n",
    "end"
   ]
  },
  {
   "cell_type": "code",
   "execution_count": 16,
   "metadata": {},
   "outputs": [
    {
     "name": "stdout",
     "output_type": "stream",
     "text": [
      "derivative =\n",
      "\n",
      " Columns 1 through 8:\n",
      "\n",
      "   1.05171   1.00502   1.00050   1.00005   1.00001   1.00000   1.00000   1.00000\n",
      "\n",
      " Columns 9 through 16:\n",
      "\n",
      "   1.00000   1.00000   1.00000   1.00009   0.99920   0.99920   1.11022   0.00000\n",
      "\n"
     ]
    },
    {
     "data": {
      "image/png": "[encoded data removed]",
      "text/plain": [
       "<IPython.core.display.Image object>"
      ]
     },
     "metadata": {},
     "output_type": "display_data"
    }
   ],
   "source": [
    "derivative = numdiff(0);\n",
    "derivative"
   ]
  },
  {
   "cell_type": "markdown",
   "metadata": {},
   "source": [
    "## Exercise 5 - Numerical Extrapolation"
   ]
  },
  {
   "cell_type": "code",
   "execution_count": null,
   "metadata": {},
   "outputs": [],
   "source": [
    "function S, S_extrapol = SimpsonsRuleWithExtrapolation(f,a,b,n)\n",
    "% SIMPSONSRULE computes the integral of f by subdividing the\n",
    "% interval [a,b] into an even number n of intervals using\n",
    "% Simpson's rule.\n",
    "    x = linspace(a,b,n+1);\n",
    "    S = feval(f,a) + feval(f,b);\n",
    "    for i=2:2:n\n",
    "        S = S + 4*feval(f,x(i));\n",
    "    end\n",
    "    for i=3:2:n-1\n",
    "        S = S + 2*feval(f,x(i));\n",
    "    end\n",
    "    \n",
    "    S = (b-a)*S/(3*n);\n",
    "    arr[i] = S;\n",
    "end"
   ]
  },
  {
   "cell_type": "code",
   "execution_count": null,
   "metadata": {},
   "outputs": [],
   "source": [
    "format long\n",
    "f = @(x) [exp(-x*x)];\n",
    "a = [32,64,128,238,256,512,1024];\n",
    "for i = a\n",
    "    format long\n",
    "    printf('Simpsons-Rule  for n=%i \\t intervall = %0.15e\\n',i, SimpsonsRule(f,-1,2,i))\n",
    "endfor\n",
    "\n",
    "using_quad = quad(f,-1,2)"
   ]
  }
 ],
 "metadata": {
  "kernelspec": {
   "display_name": "Octave",
   "language": "octave",
   "name": "octave"
  },
  "language_info": {
   "file_extension": ".m",
   "help_links": [
    {
     "text": "GNU Octave",
     "url": "https://www.gnu.org/software/octave/support.html"
    },
    {
     "text": "Octave Kernel",
     "url": "https://github.com/Calysto/octave_kernel"
    },
    {
     "text": "MetaKernel Magics",
     "url": "https://metakernel.readthedocs.io/en/latest/source/README.html"
    }
   ],
   "mimetype": "text/x-octave",
   "name": "octave",
   "version": "5.2.0"
  }
 },
 "nbformat": 4,
 "nbformat_minor": 4
}
