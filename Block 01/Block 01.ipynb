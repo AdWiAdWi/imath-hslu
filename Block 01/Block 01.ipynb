{
 "cells": [
  {
   "cell_type": "markdown",
   "metadata": {},
   "source": [
    "# IMATH - Block 01"
   ]
  },
  {
   "cell_type": "code",
   "execution_count": 4,
   "metadata": {},
   "outputs": [],
   "source": [
    "def To_Reduced_Row_Echelon_Form(A):\n",
    "    if not A: return\n",
    "    lead = 0\n",
    "    rowCount = len(A)\n",
    "    columnCount = len(A[0])\n",
    "    for r in range(rowCount):\n",
    "        if lead >= columnCount:\n",
    "            return\n",
    "        i = r\n",
    "        while A[i][lead] == 0:\n",
    "            i += 1\n",
    "            if i == rowCount:\n",
    "                i = r\n",
    "                lead += 1\n",
    "                if columnCount == lead:\n",
    "                    return\n",
    "        A[i],A[r] = A[r],A[i]\n",
    "        lv = A[r][lead]\n",
    "        A[r] = [arx / float(lv) for arx in A[r]]\n",
    "        for i in range(rowCount):\n",
    "            if i != r:\n",
    "                lv = A[i][lead]\n",
    "                A[i] = [iv - lv*rv for rv,iv in zip(A[r],A[i])]\n",
    "        lead += 1"
   ]
  },
  {
   "cell_type": "code",
   "execution_count": 6,
   "metadata": {},
   "outputs": [],
   "source": [
    "A = [[ 1, 2, -1, -4],\n",
    "[ 2, 3, -1, -11],\n",
    "[-2, 0, -3, 22]]"
   ]
  },
  {
   "cell_type": "code",
   "execution_count": 8,
   "metadata": {},
   "outputs": [
    {
     "name": "stdout",
     "output_type": "stream",
     "text": [
      "1.0, 0.0, 0.0, -8.0\n",
      "-0.0, 1.0, 0.0, 1.0\n",
      "-0.0, -0.0, 1.0, -2.0\n"
     ]
    }
   ],
   "source": [
    "To_Reduced_Row_Echelon_Form(A)\n",
    "for rw in A:\n",
    "    print(', '.join( (str(rv) for rv in rw) ))"
   ]
  }
 ],
 "metadata": {
  "kernelspec": {
   "display_name": "Python 3",
   "language": "python",
   "name": "python3"
  },
  "language_info": {
   "codemirror_mode": {
    "name": "ipython",
    "version": 3
   },
   "file_extension": ".py",
   "mimetype": "text/x-python",
   "name": "python",
   "nbconvert_exporter": "python",
   "pygments_lexer": "ipython3",
   "version": "3.7.2"
  }
 },
 "nbformat": 4,
 "nbformat_minor": 4
}
