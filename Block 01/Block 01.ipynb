{
 "cells": [
  {
   "cell_type": "markdown",
   "metadata": {},
   "source": [
    "# IMATH - Block 01"
   ]
  },
  {
   "cell_type": "code",
   "execution_count": 12,
   "metadata": {},
   "outputs": [],
   "source": [
    "def To_Reduced_Row_Echelon_Form(A):\n",
    "    if not A: return\n",
    "    lead = 0\n",
    "    rowCount = len(A)\n",
    "    columnCount = len(A[0])\n",
    "    for r in range(rowCount):\n",
    "        if lead >= columnCount:\n",
    "            return\n",
    "        i = r\n",
    "        while A[i][lead] == 0:\n",
    "            i += 1\n",
    "            if i == rowCount:\n",
    "                i = r\n",
    "                lead += 1\n",
    "                if columnCount == lead:\n",
    "                    return\n",
    "        A[i],A[r] = A[r],A[i]\n",
    "        lv = A[r][lead]\n",
    "        A[r] = [arx / float(lv) for arx in A[r]]\n",
    "        for i in range(rowCount):\n",
    "            if i != r:\n",
    "                lv = A[i][lead]\n",
    "                A[i] = [iv - lv*rv for rv,iv in zip(A[r],A[i])]\n",
    "        lead += 1"
   ]
  },
  {
   "cell_type": "code",
   "execution_count": 13,
   "metadata": {},
   "outputs": [],
   "source": [
    "A = [[ 1, 2, -1, -4],\n",
    "[ 2, 3, -1, -11],\n",
    "[-2, 0, -3, 22]]"
   ]
  },
  {
   "cell_type": "code",
   "execution_count": 14,
   "metadata": {},
   "outputs": [
    {
     "name": "stdout",
     "output_type": "stream",
     "text": [
      "1.0, 0.0, 0.0, -8.0\n",
      "-0.0, 1.0, 0.0, 1.0\n",
      "-0.0, -0.0, 1.0, -2.0\n"
     ]
    }
   ],
   "source": [
    "To_Reduced_Row_Echelon_Form(A)\n",
    "for rw in A:\n",
    "    print(', '.join( (str(rv) for rv in rw) ))"
   ]
  },
  {
   "cell_type": "code",
   "execution_count": 16,
   "metadata": {},
   "outputs": [
    {
     "ename": "SyntaxError",
     "evalue": "invalid syntax (<ipython-input-16-c5cdc9289383>, line 7)",
     "output_type": "error",
     "traceback": [
      "\u001b[1;36m  File \u001b[1;32m\"<ipython-input-16-c5cdc9289383>\"\u001b[1;36m, line \u001b[1;32m7\u001b[0m\n\u001b[1;33m    for k=1:m:\u001b[0m\n\u001b[1;37m         ^\u001b[0m\n\u001b[1;31mSyntaxError\u001b[0m\u001b[1;31m:\u001b[0m invalid syntax\n"
     ]
    }
   ],
   "source": [
    "def LU_decomposition(A):\n",
    "\n",
    "    [m, n] = size(A)\n",
    "    if (m != n):\n",
    "        error(\"A needs to be a square matrix\")\n",
    "    endif\n",
    "    for k=1:m:\n",
    "        for i=k+1:m\n",
    "            fact = A(i,k)/A(k,k);\n",
    "            for j=k:n\n",
    "                A(i,j) = A(i,j) - fact*A(k,j);\n",
    "                end\n",
    "            A(i,k) = fact;\n",
    "        end\n",
    "    end\n",
    "    U = triu(A);\n",
    "    L = tril(A,-1) + eye(m,n);"
   ]
  }
 ],
 "metadata": {
  "kernelspec": {
   "display_name": "Python 3",
   "language": "python",
   "name": "python3"
  },
  "language_info": {
   "codemirror_mode": {
    "name": "ipython",
    "version": 3
   },
   "file_extension": ".py",
   "mimetype": "text/x-python",
   "name": "python",
   "nbconvert_exporter": "python",
   "pygments_lexer": "ipython3",
   "version": "3.7.2"
  }
 },
 "nbformat": 4,
 "nbformat_minor": 4
}
