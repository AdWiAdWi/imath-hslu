{
 "cells": [
  {
   "cell_type": "markdown",
   "metadata": {},
   "source": [
    "# IMATH Exercises - Block 8"
   ]
  },
  {
   "cell_type": "markdown",
   "metadata": {},
   "source": [
    "## Exercise 2 "
   ]
  },
  {
   "cell_type": "markdown",
   "metadata": {},
   "source": [
    "Plot the error of $1 - ((1+x)-1)/(x-1)$"
   ]
  },
  {
   "cell_type": "code",
   "execution_count": 1,
   "metadata": {},
   "outputs": [
    {
     "name": "stdout",
     "output_type": "stream",
     "text": [
      "ans =  1.0000\n",
      "ans =  1.0000\n",
      "ans =  1.0000\n",
      "ans =  1.0001\n",
      "ans =  1.0010\n",
      "ans =  1.0101\n",
      "ans =  1.1111\n",
      "warning: division by zero\n",
      "ans = -Inf\n",
      "ans = -0.11111\n",
      "ans = -0.010101\n",
      "ans = -0.0010010\n",
      "ans = -0.00010001\n",
      "ans = -0.000010000\n",
      "ans = -0.0000010000\n",
      "ans = -0.00000010000\n"
     ]
    }
   ],
   "source": [
    "for i = -7:7\n",
    "    x = 10^i;\n",
    "    1-((1+x)-1)/(x-1)\n",
    "end"
   ]
  },
  {
   "cell_type": "markdown",
   "metadata": {},
   "source": [
    "## Exercise 4"
   ]
  },
  {
   "cell_type": "code",
   "execution_count": 49,
   "metadata": {},
   "outputs": [
    {
     "name": "stdout",
     "output_type": "stream",
     "text": [
      "Double\t\t Float\t\t K\n",
      "3.06147\t\t 3.061467\t 2\n",
      "3.12145\t\t 3.121445\t 3\n",
      "3.13655\t\t 3.136548\t 4\n",
      "3.14033\t\t 3.140331\t 5\n",
      "3.14128\t\t 3.141277\t 6\n",
      "3.14151\t\t 3.141514\t 7\n",
      "3.14157\t\t 3.141573\t 8\n",
      "3.14159\t\t 3.141588\t 9\n",
      "3.14159\t\t 3.141591\t 10\n",
      "3.14159\t\t 3.141592\t 11\n",
      "3.14159\t\t 3.141593\t 12\n",
      "3.14159\t\t 3.141593\t 13\n",
      "3.14159\t\t 3.141593\t 14\n",
      "3.14159\t\t 3.141593\t 15\n",
      "3.14159\t\t 3.141593\t 16\n",
      "3.14159\t\t 3.141593\t 17\n",
      "3.14159\t\t 3.141594\t 18\n",
      "3.1416\t\t 3.141597\t 19\n",
      "3.1416\t\t 3.141597\t 20\n",
      "3.14167\t\t 3.141674\t 21\n",
      "3.14183\t\t 3.141830\t 22\n",
      "3.14245\t\t 3.142451\t 23\n",
      "3.14245\t\t 3.142451\t 24\n",
      "3.16228\t\t 3.162278\t 25\n",
      "3.16228\t\t 3.162278\t 26\n",
      "3.4641\t\t 3.464102\t 27\n",
      "4\t\t 4.000000\t 28\n",
      "0\t\t 0.000000\t 29\n",
      "0\t\t 0.000000\t 30\n",
      "0\t\t 0.000000\t 31\n",
      "0\t\t 0.000000\t 32\n",
      "0\t\t 0.000000\t 33\n",
      "0\t\t 0.000000\t 34\n",
      "0\t\t 0.000000\t 35\n",
      "0\t\t 0.000000\t 36\n",
      "0\t\t 0.000000\t 37\n",
      "0\t\t 0.000000\t 38\n",
      "0\t\t 0.000000\t 39\n",
      "0\t\t 0.000000\t 40\n"
     ]
    }
   ],
   "source": [
    "U_k = 2*sqrt(2);\n",
    "max_iter = 40;\n",
    "printf('Double\\t\\t Float\\t\\t K\\n')\n",
    "\n",
    "\n",
    "for k=2:max_iter\n",
    "    U_k1 = 2^k*sqrt(2*(1-sqrt(1-(2^(-k)*U_k)^2)));\n",
    "    printf('%d\\t\\t %f\\t %d\\n',U_k1, U_k1, k)\n",
    "    U_k = U_k1;\n",
    "end;\n"
   ]
  },
  {
   "cell_type": "code",
   "execution_count": 9,
   "metadata": {},
   "outputs": [],
   "source": [
    "function x = ComputePi_01\n",
    "\n",
    "  Uold1 = 2*sqrt(2);\n",
    "  Uold2 = 2*sqrt(2);\n",
    "  maxit = 24;\n",
    "\n",
    "  fprintf('rel. error for bad (left) and good (right) method\\n');\n",
    "  \n",
    "  for i=2:maxit\n",
    "    k = i;\n",
    "    a1 = (Uold1/2^k)^2;\n",
    "    Unew1 = 2^k*sqrt(2*(1-sqrt(1-a1)));\n",
    "    Uold1 = Unew1;\n",
    "    a2 = (Uold2/2^k)^2;\n",
    "    Unew2 = 2^k*sqrt(2*a2/(1+sqrt(1-a2)));\n",
    "    Uold2 = Unew2;\n",
    "    fprintf('%16.14e %16.14e\\n',abs(pi-Unew1)/pi,abs(pi-Unew2)/pi);\n",
    "  end;\n",
    "end"
   ]
  },
  {
   "cell_type": "code",
   "execution_count": 10,
   "metadata": {},
   "outputs": [
    {
     "name": "stdout",
     "output_type": "stream",
     "text": [
      "rel. error for bad (left) and good (right) method\n",
      "2.55046415955671e-02 2.55046415955671e-02\n",
      "6.41314885579401e-03 6.41314885579401e-03\n",
      "1.60560696438116e-03 1.60560696438144e-03\n",
      "4.01546850325250e-04 4.01546850320727e-04\n",
      "1.00395783863265e-04 1.00395783858035e-04\n",
      "2.50995129994164e-05 2.50995129497997e-05\n",
      "6.27491342261881e-06 6.27491367437739e-06\n",
      "1.56872974177577e-06 1.56873063332059e-06\n",
      "3.92184886379381e-07 3.92182796684276e-07\n",
      "9.80326701348349e-08 9.80457077232272e-08\n",
      "2.45241179447573e-08 2.45114273902202e-08\n",
      "6.40647820848329e-09 6.12785681221557e-09\n",
      "3.87636533591722e-10 1.53196420305389e-09\n",
      "2.63197006556094e-09 3.82991086102969e-10\n",
      "1.47103964621716e-08 9.57477008467494e-11\n",
      "8.19170108940481e-08 2.39368545326944e-11\n",
      "4.68426546739940e-07 5.98410761468422e-12\n",
      "1.24144517018555e-06 1.49585020618875e-12\n",
      "1.24144517018555e-06 3.73750514568424e-13\n",
      "2.59777256198812e-05 9.31549126704203e-14\n",
      "7.54484510070300e-05 2.28999937065373e-14\n",
      "2.73306885715936e-04 5.37160346202727e-15\n",
      "2.73306885715936e-04 9.89505900899761e-16\n"
     ]
    }
   ],
   "source": [
    "ComputePi_01"
   ]
  },
  {
   "cell_type": "markdown",
   "metadata": {},
   "source": [
    "## Exercise 6"
   ]
  },
  {
   "cell_type": "code",
   "execution_count": 54,
   "metadata": {},
   "outputs": [],
   "source": [
    "function x = GaussElimination(A, b)\n",
    "    % Solve the linear system Ax = b\n",
    "    % using Gaussian elimination without pivoting\n",
    "    % A is an n by n matrix\n",
    "    % b is an n by k matrix (k copies of n-vectors)\n",
    "    % x is an n by k matrix (k copies of solution vectors)\n",
    "\n",
    "    [n, n] = size(A);     % Find size of matrix A\n",
    "    [n, k] = size(b);     % Find size of matrix b\n",
    "    x = zeros(n,k);       % Initialize x \n",
    "    \n",
    "    for i = 1:n-1\n",
    "        m = -A(i+1:n,i)/A(i,i); % multipliers\n",
    "        A(i+1:n,:) = A(i+1:n,:) + m*A(i,:);\n",
    "        b(i+1:n,:) = b(i+1:n,:) + m*b(i,:);\n",
    "    end;\n",
    "\n",
    "    % Use back substitution to find unknowns\n",
    "    x(n,:) = b(n,:)/A(n,n);\n",
    "    \n",
    "    for i = n-1:-1:1\n",
    "        x(i,:) = (b(i,:) - A(i,i+1:n)*x(i+1:n,:))/A(i,i);\n",
    "    end\n",
    "endfunction"
   ]
  },
  {
   "cell_type": "code",
   "execution_count": 55,
   "metadata": {},
   "outputs": [
    {
     "name": "stdout",
     "output_type": "stream",
     "text": [
      "A =\n",
      "\n",
      "    2   -1    3\n",
      "   -4    6   -5\n",
      "    6   13   16\n",
      "\n",
      "b =\n",
      "\n",
      "   2\n",
      "   1\n",
      "   3\n",
      "\n",
      "result =\n",
      "\n",
      "   14.0833\n",
      "    3.1667\n",
      "   -7.6667\n",
      "\n",
      "check =\n",
      "\n",
      "   0\n",
      "   0\n",
      "   0\n",
      "\n"
     ]
    }
   ],
   "source": [
    "A = [2 -1 3; -4 6 -5; 6 13 16]\n",
    "b = [2; 1; 3]\n",
    "\n",
    "result = GaussElimination(A,b)\n",
    "\n",
    "% Check with A * result - b\n",
    "check = A * result - b"
   ]
  }
 ],
 "metadata": {
  "kernelspec": {
   "display_name": "Octave",
   "language": "octave",
   "name": "octave"
  },
  "language_info": {
   "file_extension": ".m",
   "help_links": [
    {
     "text": "GNU Octave",
     "url": "https://www.gnu.org/software/octave/support.html"
    },
    {
     "text": "Octave Kernel",
     "url": "https://github.com/Calysto/octave_kernel"
    },
    {
     "text": "MetaKernel Magics",
     "url": "https://metakernel.readthedocs.io/en/latest/source/README.html"
    }
   ],
   "mimetype": "text/x-octave",
   "name": "octave",
   "version": "5.2.0"
  }
 },
 "nbformat": 4,
 "nbformat_minor": 4
}
