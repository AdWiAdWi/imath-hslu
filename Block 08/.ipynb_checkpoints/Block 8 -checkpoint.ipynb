{
 "cells": [
  {
   "cell_type": "markdown",
   "metadata": {},
   "source": [
    "# IMATH Exercises - Block 8"
   ]
  },
  {
   "cell_type": "markdown",
   "metadata": {},
   "source": [
    "## Exercise 2 "
   ]
  },
  {
   "cell_type": "markdown",
   "metadata": {},
   "source": [
    "Plot the error of $1 - ((1+x)-1)/(x-1)$"
   ]
  },
  {
   "cell_type": "code",
   "execution_count": 1,
   "metadata": {},
   "outputs": [
    {
     "name": "stdout",
     "output_type": "stream",
     "text": [
      "ans =  1.0000\n",
      "ans =  1.0000\n",
      "ans =  1.0000\n",
      "ans =  1.0001\n",
      "ans =  1.0010\n",
      "ans =  1.0101\n",
      "ans =  1.1111\n",
      "warning: division by zero\n",
      "ans = -Inf\n",
      "ans = -0.11111\n",
      "ans = -0.010101\n",
      "ans = -0.0010010\n",
      "ans = -0.00010001\n",
      "ans = -0.000010000\n",
      "ans = -0.0000010000\n",
      "ans = -0.00000010000\n"
     ]
    }
   ],
   "source": [
    "for i = -7:7\n",
    "    x = 10^i;\n",
    "    1-((1+x)-1)/(x-1)\n",
    "end"
   ]
  },
  {
   "cell_type": "markdown",
   "metadata": {},
   "source": [
    "## Exercise 5"
   ]
  },
  {
   "cell_type": "code",
   "execution_count": 3,
   "metadata": {},
   "outputs": [],
   "source": [
    "function x = ComputePi_01\n",
    "\n",
    "  Uold1 = 2*sqrt(2);\n",
    "  Uold2 = 2*sqrt(2);\n",
    "  maxit = 24;\n",
    "\n",
    "  fprintf('rel. error for bad (left) and good (right) method\\n');\n",
    "  \n",
    "  for i=2:maxit\n",
    "    k = i;\n",
    "    a1 = (Uold1/2^k)^2;\n",
    "    Unew1 = 2^k*sqrt(2*(1-sqrt(1-a1)));\n",
    "    Uold1 = Unew1;\n",
    "    a2 = (Uold2/2^k)^2;\n",
    "    Unew2 = 2^k*sqrt(2*a2/(1+sqrt(1-a2)));\n",
    "    Uold2 = Unew2;\n",
    "    fprintf('%16.14e %16.14e\\n',abs(pi-Unew1)/pi,abs(pi-Unew2)/pi);\n",
    "  end;\n",
    "end"
   ]
  },
  {
   "cell_type": "code",
   "execution_count": 5,
   "metadata": {},
   "outputs": [
    {
     "name": "stdout",
     "output_type": "stream",
     "text": [
      "error: 'ComputePi_01' undefined near line 1 column 1\n"
     ]
    }
   ],
   "source": [
    "ComputePi_01"
   ]
  }
 ],
 "metadata": {
  "kernelspec": {
   "display_name": "Octave",
   "language": "octave",
   "name": "octave"
  },
  "language_info": {
   "file_extension": ".m",
   "help_links": [
    {
     "text": "GNU Octave",
     "url": "https://www.gnu.org/software/octave/support.html"
    },
    {
     "text": "Octave Kernel",
     "url": "https://github.com/Calysto/octave_kernel"
    },
    {
     "text": "MetaKernel Magics",
     "url": "https://metakernel.readthedocs.io/en/latest/source/README.html"
    }
   ],
   "mimetype": "text/x-octave",
   "name": "octave",
   "version": "5.2.0"
  }
 },
 "nbformat": 4,
 "nbformat_minor": 4
}
